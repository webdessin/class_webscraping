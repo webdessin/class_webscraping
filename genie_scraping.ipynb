{
 "cells": [
  {
   "cell_type": "code",
   "execution_count": 1,
   "id": "68a51126",
   "metadata": {},
   "outputs": [],
   "source": [
    "from selenium import webdriver"
   ]
  },
  {
   "cell_type": "code",
   "execution_count": 2,
   "id": "1a881d2e",
   "metadata": {},
   "outputs": [],
   "source": [
    "browser = webdriver.Chrome('./chromedriver.exe')"
   ]
  },
  {
   "cell_type": "code",
   "execution_count": 22,
   "id": "b3ec769a",
   "metadata": {},
   "outputs": [],
   "source": [
    "browser.get('https://www.genie.co.kr/chart/top200')"
   ]
  },
  {
   "cell_type": "code",
   "execution_count": 23,
   "id": "8bafef2c",
   "metadata": {},
   "outputs": [],
   "source": [
    "html = browser.page_source"
   ]
  },
  {
   "cell_type": "code",
   "execution_count": 24,
   "id": "b3b6c915",
   "metadata": {},
   "outputs": [],
   "source": [
    "from bs4 import BeautifulSoup"
   ]
  },
  {
   "cell_type": "code",
   "execution_count": 25,
   "id": "a43487c2",
   "metadata": {},
   "outputs": [],
   "source": [
    "soup = BeautifulSoup(html, 'html.parser')"
   ]
  },
  {
   "cell_type": "code",
   "execution_count": 27,
   "id": "bfa1f893",
   "metadata": {},
   "outputs": [
    {
     "data": {
      "text/plain": [
       "(0, bs4.element.ResultSet)"
      ]
     },
     "execution_count": 27,
     "metadata": {},
     "output_type": "execute_result"
    }
   ],
   "source": [
    "len(tags), type(tags)"
   ]
  },
  {
   "cell_type": "code",
   "execution_count": 30,
   "id": "6089ae86",
   "metadata": {},
   "outputs": [],
   "source": [
    "tags = soup.select('td.info')"
   ]
  },
  {
   "cell_type": "code",
   "execution_count": 31,
   "id": "e3aff9c7",
   "metadata": {},
   "outputs": [
    {
     "data": {
      "text/plain": [
       "(50, bs4.element.ResultSet)"
      ]
     },
     "execution_count": 31,
     "metadata": {},
     "output_type": "execute_result"
    }
   ],
   "source": [
    "len(tags), type(tags)"
   ]
  },
  {
   "cell_type": "code",
   "execution_count": 33,
   "id": "d312c580",
   "metadata": {},
   "outputs": [],
   "source": [
    "tag = tags[0]"
   ]
  },
  {
   "cell_type": "markdown",
   "id": "ab8859bb",
   "metadata": {},
   "source": [
    "곡명: a.title, 가수이름: a.artist,"
   ]
  },
  {
   "cell_type": "code",
   "execution_count": 36,
   "id": "c7840121",
   "metadata": {},
   "outputs": [
    {
     "data": {
      "text/plain": [
       "(1, bs4.element.ResultSet)"
      ]
     },
     "execution_count": 36,
     "metadata": {},
     "output_type": "execute_result"
    }
   ],
   "source": [
    "title = tag.select('a.title')\n",
    "len(title), type(title)"
   ]
  },
  {
   "cell_type": "code",
   "execution_count": 37,
   "id": "8c479d73",
   "metadata": {},
   "outputs": [
    {
     "data": {
      "text/plain": [
       "<a class=\"title ellipsis\" href=\"#\" onclick=\"fnPlaySong('93599531','1');return false;\" title=\"재생\">\n",
       "                                        \n",
       "                                            \n",
       "                                        \n",
       "                                        \n",
       "                                        \n",
       "                                        \n",
       "                                            \n",
       "                                                하루만 더</a>"
      ]
     },
     "execution_count": 37,
     "metadata": {},
     "output_type": "execute_result"
    }
   ],
   "source": [
    "title[0]"
   ]
  },
  {
   "cell_type": "code",
   "execution_count": 39,
   "id": "2c06c3b9",
   "metadata": {},
   "outputs": [
    {
     "data": {
      "text/plain": [
       "'하루만 더'"
      ]
     },
     "execution_count": 39,
     "metadata": {},
     "output_type": "execute_result"
    }
   ],
   "source": [
    "title[0].text.strip()"
   ]
  },
  {
   "cell_type": "code",
   "execution_count": 41,
   "id": "a0f139f2",
   "metadata": {},
   "outputs": [
    {
     "data": {
      "text/plain": [
       "(1, bs4.element.ResultSet)"
      ]
     },
     "execution_count": 41,
     "metadata": {},
     "output_type": "execute_result"
    }
   ],
   "source": [
    "artist = tag.select('a.artist')\n",
    "len(artist), type(artist)"
   ]
  },
  {
   "cell_type": "code",
   "execution_count": 42,
   "id": "5945f9c2",
   "metadata": {},
   "outputs": [
    {
     "data": {
      "text/plain": [
       "<a class=\"artist ellipsis\" href=\"#\" onclick=\"fnViewArtist('14957679');return false;\">빅마마 (Big Mama)</a>"
      ]
     },
     "execution_count": 42,
     "metadata": {},
     "output_type": "execute_result"
    }
   ],
   "source": [
    "artist[0]"
   ]
  },
  {
   "cell_type": "code",
   "execution_count": 43,
   "id": "f0705cb2",
   "metadata": {},
   "outputs": [
    {
     "data": {
      "text/plain": [
       "'빅마마 (Big Mama)'"
      ]
     },
     "execution_count": 43,
     "metadata": {},
     "output_type": "execute_result"
    }
   ],
   "source": [
    "artist[0].text.strip()"
   ]
  },
  {
   "cell_type": "markdown",
   "id": "e8707403",
   "metadata": {},
   "source": [
    "[\n",
    "    [title01, artist01],\n",
    "    [title02, artist02],\n",
    "    ...\n",
    "]"
   ]
  },
  {
   "cell_type": "code",
   "execution_count": 49,
   "id": "ca41d620",
   "metadata": {},
   "outputs": [
    {
     "data": {
      "text/plain": [
       "[]"
      ]
     },
     "execution_count": 49,
     "metadata": {},
     "output_type": "execute_result"
    }
   ],
   "source": [
    "contetnts = list()\n",
    "for tag in tags:\n",
    "    title = tag.select('a.title')\n",
    "    artist = tag.select('a.artist')\n",
    "#    print(title[0].text.strip(), artist[0].text.strip())\n",
    "    contents.append([title[0].text.strip(), artist[0].text.strip()])\n",
    "contetnts"
   ]
  },
  {
   "cell_type": "code",
   "execution_count": 50,
   "id": "d0c88116",
   "metadata": {},
   "outputs": [],
   "source": [
    "import pandas as pd"
   ]
  },
  {
   "cell_type": "code",
   "execution_count": 53,
   "id": "6d781e07",
   "metadata": {
    "collapsed": true
   },
   "outputs": [
    {
     "data": {
      "text/html": [
       "<div>\n",
       "<style scoped>\n",
       "    .dataframe tbody tr th:only-of-type {\n",
       "        vertical-align: middle;\n",
       "    }\n",
       "\n",
       "    .dataframe tbody tr th {\n",
       "        vertical-align: top;\n",
       "    }\n",
       "\n",
       "    .dataframe thead th {\n",
       "        text-align: right;\n",
       "    }\n",
       "</style>\n",
       "<table border=\"1\" class=\"dataframe\">\n",
       "  <thead>\n",
       "    <tr style=\"text-align: right;\">\n",
       "      <th></th>\n",
       "      <th>Title</th>\n",
       "      <th>Artist</th>\n",
       "    </tr>\n",
       "  </thead>\n",
       "  <tbody>\n",
       "    <tr>\n",
       "      <th>0</th>\n",
       "      <td>하루만 더</td>\n",
       "      <td>빅마마 (Big Mama)</td>\n",
       "    </tr>\n",
       "    <tr>\n",
       "      <th>1</th>\n",
       "      <td>치맛바람 (Chi Mat Ba Ram)</td>\n",
       "      <td>브레이브걸스 (Brave girls)</td>\n",
       "    </tr>\n",
       "    <tr>\n",
       "      <th>2</th>\n",
       "      <td>Butter</td>\n",
       "      <td>방탄소년단</td>\n",
       "    </tr>\n",
       "    <tr>\n",
       "      <th>3</th>\n",
       "      <td>Next Level</td>\n",
       "      <td>aespa</td>\n",
       "    </tr>\n",
       "    <tr>\n",
       "      <th>4</th>\n",
       "      <td>Alcohol-Free</td>\n",
       "      <td>TWICE (트와이스)</td>\n",
       "    </tr>\n",
       "    <tr>\n",
       "      <th>...</th>\n",
       "      <td>...</td>\n",
       "      <td>...</td>\n",
       "    </tr>\n",
       "    <tr>\n",
       "      <th>95</th>\n",
       "      <td>마.피.아. In the morning</td>\n",
       "      <td>ITZY (있지)</td>\n",
       "    </tr>\n",
       "    <tr>\n",
       "      <th>96</th>\n",
       "      <td>2002</td>\n",
       "      <td>Anne-Marie</td>\n",
       "    </tr>\n",
       "    <tr>\n",
       "      <th>97</th>\n",
       "      <td>Off My Face</td>\n",
       "      <td>Justin Bieber</td>\n",
       "    </tr>\n",
       "    <tr>\n",
       "      <th>98</th>\n",
       "      <td>내 입술 따뜻한 커피처럼</td>\n",
       "      <td>청하 &amp; Colde (콜드)</td>\n",
       "    </tr>\n",
       "    <tr>\n",
       "      <th>99</th>\n",
       "      <td>아주 NICE</td>\n",
       "      <td>세븐틴 (SEVENTEEN)</td>\n",
       "    </tr>\n",
       "  </tbody>\n",
       "</table>\n",
       "<p>100 rows × 2 columns</p>\n",
       "</div>"
      ],
      "text/plain": [
       "                    Title                Artist\n",
       "0                   하루만 더        빅마마 (Big Mama)\n",
       "1   치맛바람 (Chi Mat Ba Ram)  브레이브걸스 (Brave girls)\n",
       "2                  Butter                 방탄소년단\n",
       "3              Next Level                 aespa\n",
       "4            Alcohol-Free          TWICE (트와이스)\n",
       "..                    ...                   ...\n",
       "95  마.피.아. In the morning             ITZY (있지)\n",
       "96                   2002            Anne-Marie\n",
       "97            Off My Face         Justin Bieber\n",
       "98          내 입술 따뜻한 커피처럼       청하 & Colde (콜드)\n",
       "99                아주 NICE       세븐틴 (SEVENTEEN)\n",
       "\n",
       "[100 rows x 2 columns]"
      ]
     },
     "execution_count": 53,
     "metadata": {},
     "output_type": "execute_result"
    }
   ],
   "source": [
    "pd_data = pd.DataFrame(contents, columns=['Title', 'Artist'])\n",
    "pd_data"
   ]
  },
  {
   "cell_type": "code",
   "execution_count": 54,
   "id": "92142e67",
   "metadata": {},
   "outputs": [],
   "source": [
    "pd_data.to_excel('./saves/genie_scraping.xls', index=False)"
   ]
  },
  {
   "cell_type": "code",
   "execution_count": null,
   "id": "73b3de5b",
   "metadata": {},
   "outputs": [],
   "source": []
  }
 ],
 "metadata": {
  "kernelspec": {
   "display_name": "Python 3",
   "language": "python",
   "name": "python3"
  },
  "language_info": {
   "codemirror_mode": {
    "name": "ipython",
    "version": 3
   },
   "file_extension": ".py",
   "mimetype": "text/x-python",
   "name": "python",
   "nbconvert_exporter": "python",
   "pygments_lexer": "ipython3",
   "version": "3.6.4"
  }
 },
 "nbformat": 4,
 "nbformat_minor": 5
}
